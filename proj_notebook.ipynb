{
 "cells": [
  {
   "cell_type": "code",
   "execution_count": 16,
   "id": "cfc6b0eb-760f-4593-88ee-3be0b590ca43",
   "metadata": {},
   "outputs": [],
   "source": [
    "import json\n",
    "from collections import defaultdict"
   ]
  },
  {
   "cell_type": "code",
   "execution_count": 15,
   "id": "66a31dda-816d-40a5-b8ad-dba382c52e54",
   "metadata": {},
   "outputs": [],
   "source": [
    "with open('src/data/data_cleaned/cleaned_rentals_data.json', 'r') as rental_file:\n",
    "    rental_data = json.load(rental_file)\n",
    "\n",
    "with open('src/data/data_cleaned/cleaned_airbnb_data.json', 'r') as airbnb_file:\n",
    "    airbnb_data = json.load(airbnb_file)"
   ]
  },
  {
   "cell_type": "code",
   "execution_count": 50,
   "id": "cb4c1a8f-aff2-451c-b71a-4ac740de1f6b",
   "metadata": {},
   "outputs": [
    {
     "name": "stderr",
     "output_type": "stream",
     "text": [
      "IOPub data rate exceeded.\n",
      "The Jupyter server will temporarily stop sending output\n",
      "to the client in order to avoid crashing it.\n",
      "To change this limit, set the config variable\n",
      "`--ServerApp.iopub_data_rate_limit`.\n",
      "\n",
      "Current values:\n",
      "ServerApp.iopub_data_rate_limit=1000000.0 (bytes/sec)\n",
      "ServerApp.rate_limit_window=3.0 (secs)\n",
      "\n"
     ]
    }
   ],
   "source": [
    "revenue_per_postcode = defaultdict(list)\n",
    "entry_count_per_postcode = defaultdict(int)\n",
    "\n",
    "# Process Airbnb data\n",
    "for entry in airbnb_data:\n",
    "    postcode = entry.get('zipcode', None)\n",
    "    if postcode:\n",
    "        revenue_per_postcode[postcode].append(entry)  # Store the entire entry\n",
    "        entry_count_per_postcode[postcode] += 1\n",
    "\n",
    "# Process rentals data\n",
    "for entry in rentals_data:\n",
    "    postcode = entry.get('postalCode', None)\n",
    "    if postcode:\n",
    "        revenue_per_postcode[postcode].append(entry)  # Store the entire entry\n",
    "        entry_count_per_postcode[postcode] += 1\n",
    "\n",
    "# Calculate average revenue per house per postcode\n",
    "average_revenue_per_postcode = {}\n",
    "for postcode, entries in revenue_per_postcode.items():\n",
    "    revenues = [entry.get('rent', entry.get('price')) for entry in entries]\n",
    "    average_revenue_per_postcode[postcode] = sum(revenues) / len(revenues)\n",
    "\n",
    "# Print the results\n",
    "output_list = []\n",
    "\n",
    "for postcode, avg_revenue in average_revenue_per_postcode.items():\n",
    "    formatted_avg_revenue = f\"€{avg_revenue:.1f}\"\n",
    "    entry_count = entry_count_per_postcode[postcode]\n",
    "\n",
    "    # Retrieve the _id values for the current postal code\n",
    "    ids = [entry['_id'] for entry in revenue_per_postcode[postcode] if '_id' in entry]\n",
    "    print(f\"Postal Code: {postcode}, IDs: {ids}\")\n",
    "    ids_str = \", \".join([f'\"{id}\"' for id in ids])\n",
    "\n",
    "    output_dict = {\n",
    "        \"postalcode\": postcode,\n",
    "        \"avg\": formatted_avg_revenue,\n",
    "        \"_id\": f\"[{ids_str}]\",\n",
    "        \"entry_count\": entry_count\n",
    "    }\n",
    "    output_list.append(output_dict)\n",
    "\n",
    "json_output = json.dumps(output_list)\n",
    "print(json_output)\n",
    "\n"
   ]
  },
  {
   "cell_type": "code",
   "execution_count": null,
   "id": "96444966-006c-483e-90fa-e7edd8d6edcb",
   "metadata": {},
   "outputs": [],
   "source": []
  }
 ],
 "metadata": {
  "kernelspec": {
   "display_name": "Python 3 (ipykernel)",
   "language": "python",
   "name": "python3"
  },
  "language_info": {
   "codemirror_mode": {
    "name": "ipython",
    "version": 3
   },
   "file_extension": ".py",
   "mimetype": "text/x-python",
   "name": "python",
   "nbconvert_exporter": "python",
   "pygments_lexer": "ipython3",
   "version": "3.12.2"
  }
 },
 "nbformat": 4,
 "nbformat_minor": 5
}
